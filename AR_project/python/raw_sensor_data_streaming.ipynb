{
 "cells": [
  {
   "cell_type": "code",
   "execution_count": null,
   "metadata": {},
   "outputs": [],
   "source": [
    "#This source code is a file that saves the data from the server as a csv file. Data is saved in time, sensor name, On / Off\n",
    "#이 소스코드는 서버에서 온 데이터를 csv파일로 저장하는 파일입니다. 데이터는 시간, 센서 이름, On/Off로 차례대로 저장됩니다.\n",
    "\n",
    "import socket\n",
    "import sys\n",
    "import csv\n",
    "import datetime\n",
    "\n",
    "# Create a TCP/IP socket\n",
    "sock = socket.socket(socket.AF_INET, socket.SOCK_STREAM)\n",
    "\n",
    "# Connect the socket to the port where the server is listening\n",
    "server_address = ('192.168.0.108', 9999)\n",
    "print('connecting to {} port {}'.format(*server_address))\n",
    "sock.connect(server_address)\n",
    "\n",
    "while True:\n",
    "    data = sock.recv(16)\n",
    "    if data:\n",
    "        msg = [datetime.datetime.now(),data.decode('utf-8')]\n",
    "        f = open('C:/Users/Shin/Documents/testbeddata/result/sensor.csv', 'a', encoding='utf-8')\n",
    "        wr = csv.writer(f)\n",
    "        wr.writerow(msg)\n",
    "        f.close()\n",
    "        print(msg)\n",
    "        "
   ]
  }
 ],
 "metadata": {
  "kernelspec": {
   "display_name": "Python [default]",
   "language": "python",
   "name": "python3"
  },
  "language_info": {
   "codemirror_mode": {
    "name": "ipython",
    "version": 3
   },
   "file_extension": ".py",
   "mimetype": "text/x-python",
   "name": "python",
   "nbconvert_exporter": "python",
   "pygments_lexer": "ipython3",
   "version": "3.5.6"
  }
 },
 "nbformat": 4,
 "nbformat_minor": 2
}
