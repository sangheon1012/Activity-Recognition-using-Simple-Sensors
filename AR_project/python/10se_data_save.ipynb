{
 "cells": [
  {
   "cell_type": "code",
   "execution_count": null,
   "metadata": {},
   "outputs": [],
   "source": [
    "#이 소스코드는 time_slding_window_realtime 전에 사용됩니다. \n",
    "#시간 기반 슬라이딩 윈도우를 위해 서버에서 들어오는 데이터를 10초 간격으로 csv파일로 저장합니다.\n",
    "\n",
    "import socket\n",
    "import sys\n",
    "import csv\n",
    "import datetime\n",
    "from datetime import timedelta\n",
    "import time\n",
    "\n",
    "# Create a TCP/IP socket\n",
    "sock = socket.socket(socket.AF_INET, socket.SOCK_STREAM)\n",
    "\n",
    "# Connect the socket to the port where the server is listening\n",
    "server_address = ('192.168.0.108', 9999)\n",
    "print('connecting to {} port {}'.format(*server_address))\n",
    "sock.connect(server_address)\n",
    "\n",
    "#슬라이딩 윈도우 시간 설정\n",
    "starttime = datetime.datetime.now()\n",
    "endtime = starttime + timedelta(seconds=10)\n",
    "windowlist = []\n",
    "    \n",
    "while True:\n",
    "    data = sock.recv(16) #16 문자열을 받아옴\n",
    "    if data:\n",
    "        timenow = datetime.datetime.now()\n",
    "        msg = [timenow,data.decode('utf-8')]\n",
    "        \n",
    "        if timenow <= endtime and timenow >= starttime:\n",
    "            windowlist.append(msg)\n",
    "            #윈도우 리스트 내에 데이터를 10초 동안 저장함\n",
    "            \n",
    "        elif timenow <= endtime+timedelta(seconds=1) and timenow >= starttime+timedelta(seconds=1):\n",
    "            #1초마다 윈도우 첫시간과 끝시간이 이동함\n",
    "            starttime = starttime + timedelta(seconds=1)\n",
    "            endtime = endtime + timedelta(seconds=1)\n",
    "            windowlist.append(msg)\n",
    "            windowlist = list(filter(lambda x:x[0]>starttime,windowlist)) #윈도우 첫시간보다 낮은 데이터 시간 삭제\n",
    "            with open('C:/Users/Shin/Documents/testbeddata/result/10se_window.csv', 'w') as csvFile:\n",
    "                writer = csv.writer(csvFile)\n",
    "                writer.writerows(windowlist)\n",
    "                csvFile.close()\n",
    "        else:\n",
    "            #마지막 데이터가 들어온 시간이 윈도우 크기를 넘어설 경우\n",
    "            endtime = timenow\n",
    "            starttime = timenow - timedelta(seconds=10)\n",
    "            windowlist.append(msg)\n",
    "            windowlist = list(filter(lambda x:x[0]>starttime,windowlist)) #윈도우 첫시간보다 낮은 데이터 시간 삭제\n",
    "            with open('C:/Users/Shin/Documents/testbeddata/result/10se_window.csv', 'w') as csvFile:\n",
    "                writer = csv.writer(csvFile)\n",
    "                writer.writerows(windowlist)\n",
    "                csvFile.close()        "
   ]
  }
 ],
 "metadata": {
  "kernelspec": {
   "display_name": "Python [default]",
   "language": "python",
   "name": "python3"
  },
  "language_info": {
   "codemirror_mode": {
    "name": "ipython",
    "version": 3
   },
   "file_extension": ".py",
   "mimetype": "text/x-python",
   "name": "python",
   "nbconvert_exporter": "python",
   "pygments_lexer": "ipython3",
   "version": "3.5.6"
  }
 },
 "nbformat": 4,
 "nbformat_minor": 2
}
